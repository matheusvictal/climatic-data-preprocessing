{
 "cells": [
  {
   "cell_type": "markdown",
   "metadata": {},
   "source": [
    "# Introduction to climate data sources\n",
    "\n",
    "* NOAA Gridded data (general): https://psl.noaa.gov/data/gridded/index.html\n",
    "* NOAA Extended Reconstructed Sea Surface Temperature (ERSST), Version 5: https://www.ncei.noaa.gov/access/metadata/landing-page/bin/iso?id=gov.noaa.ncdc:C00927\n",
    "* NCEP air temperature reanalisys dataset: https://psl.noaa.gov/data/gridded/data.ncep.reanalysis2.html\n",
    "* GPCC data: https://psl.noaa.gov/data/gridded/data.gpcc.html\n",
    "* GPCC precipitation data: https://psl.noaa.gov/data/gridded/data.gpcc.html\n",
    "* GPCC precipitation data (original distributor): https://opendata.dwd.de/climate_environment/GPCC/html/fulldata-monthly_v2022_doi_download.html\n",
    "* INPE fire data (Brazil): https://terrabrasilis.dpi.inpe.br/queimadas/portal/dados-abertos/ \n",
    "* INPE fire risk data (Brazil): https://dataserver-coids.inpe.br/queimadas/queimadas/focos/csv/mensal/Brasil/\n",
    "* Climate risk indexes for Brazil: https://adaptabrasil.mcti.gov.br/\n",
    "* Atlas for disasters in Brazil: https://atlasdigital.mdr.gov.br/\n",
    "* Berkeley Earth: https://berkeleyearth.org/data/"
   ]
  },
  {
   "cell_type": "markdown",
   "metadata": {},
   "source": [
    "## Geoprocessing in python\n",
    "\n",
    "* Python courses for geo-spatial data https://www.youtube.com/watch?v=eXYg1WC93do"
   ]
  },
  {
   "cell_type": "markdown",
   "metadata": {},
   "source": [
    "## Articles\n",
    "\n",
    "* Northeast Brazil: https://agencia.fapesp.br/north-atlantic-temperature-helps-forecast-extreme-events-in-northeast-brazil-up-to-3-months-in-advance/39153\n",
    "* Extreme precipitation in the Andes: https://agencia.fapesp.br/new-warning-system-enables-prediction-of-extreme-rainfall-events-in-the-andes/20371"
   ]
  },
  {
   "cell_type": "markdown",
   "metadata": {},
   "source": []
  }
 ],
 "metadata": {
  "kernelspec": {
   "display_name": "Python 3 (ipykernel)",
   "language": "python",
   "name": "python3"
  },
  "language_info": {
   "codemirror_mode": {
    "name": "ipython",
    "version": 3
   },
   "file_extension": ".py",
   "mimetype": "text/x-python",
   "name": "python",
   "nbconvert_exporter": "python",
   "pygments_lexer": "ipython3",
   "version": "3.11.3"
  }
 },
 "nbformat": 4,
 "nbformat_minor": 4
}
